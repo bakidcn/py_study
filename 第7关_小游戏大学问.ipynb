{
  "nbformat": 4,
  "nbformat_minor": 0,
  "metadata": {
    "colab": {
      "name": "第7关 - 小游戏大学问   ",
      "version": "0.3.2",
      "provenance": [],
      "include_colab_link": true
    },
    "kernelspec": {
      "name": "python3",
      "display_name": "Python 3"
    }
  },
  "cells": [
    {
      "cell_type": "markdown",
      "metadata": {
        "id": "view-in-github",
        "colab_type": "text"
      },
      "source": [
        "<a href=\"https://colab.research.google.com/github/bakidcn/py_study/blob/master/%E7%AC%AC7%E5%85%B3_%E5%B0%8F%E6%B8%B8%E6%88%8F%E5%A4%A7%E5%AD%A6%E9%97%AE.ipynb\" target=\"_parent\"><img src=\"https://colab.research.google.com/assets/colab-badge.svg\" alt=\"Open In Colab\"/></a>"
      ]
    },
    {
      "cell_type": "code",
      "metadata": {
        "id": "tanwSluEp9Zp",
        "colab_type": "code",
        "outputId": "4a2e127b-2bad-4743-fa1d-a29d320552ea",
        "colab": {
          "base_uri": "https://localhost:8080/",
          "height": 51
        }
      },
      "source": [
        "import random\n",
        "blood=random.randint(100,150)\n",
        "damage=random.randint(30,50)\n",
        "print(blood)\n",
        "print(damage)"
      ],
      "execution_count": 0,
      "outputs": [
        {
          "output_type": "stream",
          "text": [
            "121\n",
            "42\n"
          ],
          "name": "stdout"
        }
      ]
    }
  ]
}